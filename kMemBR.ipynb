{
 "cells": [
  {
   "cell_type": "code",
   "execution_count": 130,
   "id": "0cae5e37-247a-4fce-9f6c-c2d1a05c7cc8",
   "metadata": {},
   "outputs": [],
   "source": [
    "from itertools import product\n",
    "import numpy as np\n",
    "from tqdm import tqdm\n",
    "from mdptoolbox import mdp\n",
    "from matplotlib import pyplot as plt\n",
    "from matplotlib import colors as mcolors\n",
    "%matplotlib inline"
   ]
  },
  {
   "cell_type": "code",
   "execution_count": 131,
   "id": "e9fc5aa6-1152-46d4-8f1a-d25b9edc5107",
   "metadata": {},
   "outputs": [
    {
     "name": "stdout",
     "output_type": "stream",
     "text": [
      "[(0, 0), (2, -2)]\n",
      "[(-2, 2), (1, 1)]\n"
     ]
    }
   ],
   "source": [
    "# game (2 players) settings,\n",
    "# hi - lo = 1 => reduce to IPD; lo~defect, hi~coop\n",
    "lo, hi = 0, 1\n",
    "\n",
    "def r1(a1, a2):\n",
    "    return min(a1, a2) + 2 * np.sign(a2 - a1)\n",
    "\n",
    "np.random.seed(618)\n",
    "k_max = 1\n",
    "\n",
    "print([(r1(0, a2), r1(a2, 0)) for a2 in range(lo, hi + 1)])\n",
    "print([(r1(1, a2), r1(a2, 1)) for a2 in range(lo, hi + 1)])"
   ]
  },
  {
   "cell_type": "code",
   "execution_count": 132,
   "id": "8e6b8964-e1a4-434c-b89e-ea3acda9287c",
   "metadata": {},
   "outputs": [
    {
     "data": {
      "text/plain": [
       "[[], [0, 0], [0, 1], [1, 0], [1, 1]]"
      ]
     },
     "execution_count": 132,
     "metadata": {},
     "output_type": "execute_result"
    }
   ],
   "source": [
    "actions = list(range(lo, hi + 1))\n",
    "hists = []\n",
    "for k in range(k_max + 1):\n",
    "    h_k = list(map(list, product(actions, repeat=k * 2)))\n",
    "    hists += h_k\n",
    "hists"
   ]
  },
  {
   "cell_type": "code",
   "execution_count": 133,
   "id": "2d04cb93-464d-46cd-b18c-809355052fad",
   "metadata": {},
   "outputs": [],
   "source": [
    "# specify the prob of playing (defect, coop)\n",
    "pi_D = ([1, 0], [1, 0], [1, 0], [1, 0], [1, 0]) # always-defect\n",
    "pi_C = ([0, 1], [0, 1], [0, 1], [0, 1], [0, 1]) # always-coop\n",
    "pi_TFT = ([0, 1], [1, 0], [1, 0], [0, 1], [0, 1]) # Tit-For-Tat from coop\n",
    "pi_TFT_D = ([1, 0], [1, 0], [1, 0], [0, 1], [0, 1]) # Tit-For-Tat from coop\n",
    "pi_syn= ([0.715, 0.285], [0.715, 0.285], [0.715, 0.285], [0.715, 0.285], [0.715, 0.285]) # a syn-ed one"
   ]
  },
  {
   "cell_type": "code",
   "execution_count": 134,
   "id": "55bb3e40-a1c5-4c5e-b541-145cf9ddceb2",
   "metadata": {},
   "outputs": [
    {
     "name": "stdout",
     "output_type": "stream",
     "text": [
      "[[ 2.  1.]\n",
      " [ 0. -2.]\n",
      " [ 0. -2.]\n",
      " [ 2.  1.]\n",
      " [ 2.  1.]]\n",
      "[[[0. 0. 1. 0. 0.]\n",
      "  [0. 1. 0. 0. 0.]\n",
      "  [0. 1. 0. 0. 0.]\n",
      "  [0. 0. 1. 0. 0.]\n",
      "  [0. 0. 1. 0. 0.]]\n",
      "\n",
      " [[0. 0. 0. 0. 1.]\n",
      "  [0. 0. 0. 1. 0.]\n",
      "  [0. 0. 0. 1. 0.]\n",
      "  [0. 0. 0. 0. 1.]\n",
      "  [0. 0. 0. 0. 1.]]]\n"
     ]
    }
   ],
   "source": [
    "num_actions = len(actions)\n",
    "num_hists = len(hists)\n",
    "\n",
    "def comp_R(pi_2):\n",
    "    R = np.zeros(shape=(num_hists, num_actions))\n",
    "    for i, h in enumerate(hists):\n",
    "        for k1, a1 in enumerate(actions):\n",
    "            for k2, a2 in enumerate(actions):\n",
    "                R[i, k1] += r1(a1, a2) * pi_2[i][k2]\n",
    "    return R\n",
    "\n",
    "def comp_T(pi_2):\n",
    "    T = np.zeros(shape=(num_actions, num_hists, num_hists))\n",
    "    for k1, a1 in enumerate(actions):\n",
    "        for i, hi in enumerate(hists):\n",
    "            for k2, a2 in enumerate(actions):\n",
    "                hj = hi[2:] + [a1, a2]\n",
    "                # avoid using list.index()\n",
    "                l = len(hj)\n",
    "                base = [num_actions ** i for i in range(l - 1, -1, -1)]\n",
    "                j = np.dot(np.array(hj), base) + sum([num_actions ** m for m in range(l - 2, -1 , -2)])\n",
    "                # print(hj, hists.index(hj), j)\n",
    "                T[k1, i, j] += pi_2[i][k2]\n",
    "    T = T / np.sum(T, axis=2, keepdims=True)\n",
    "    return T\n",
    "print(comp_R(pi_TFT))\n",
    "print(comp_T(pi_TFT))"
   ]
  },
  {
   "cell_type": "code",
   "execution_count": 135,
   "id": "9016ebd3-a446-4009-90d4-53a98295bb8c",
   "metadata": {},
   "outputs": [],
   "source": [
    "def comp_BR(pi_2):\n",
    "    solver = mdp.PolicyIteration(transitions=comp_T(pi_2), reward=comp_R(pi_2), discount=0.99)\n",
    "    solver.run()\n",
    "    return solver.policy, solver.V"
   ]
  },
  {
   "cell_type": "code",
   "execution_count": 138,
   "id": "7bdc2d23-53a3-4662-b500-d88acfe28d80",
   "metadata": {},
   "outputs": [
    {
     "data": {
      "text/plain": [
       "((0, 0, 0, 0, 0),\n",
       " (199.99999999999983,\n",
       "  199.99999999999983,\n",
       "  199.99999999999983,\n",
       "  199.99999999999983,\n",
       "  199.99999999999983))"
      ]
     },
     "execution_count": 138,
     "metadata": {},
     "output_type": "execute_result"
    }
   ],
   "source": [
    "comp_BR(pi_C)"
   ]
  },
  {
   "cell_type": "code",
   "execution_count": null,
   "id": "28472658-0f76-4ce8-b38a-e8f697035935",
   "metadata": {},
   "outputs": [],
   "source": []
  }
 ],
 "metadata": {
  "kernelspec": {
   "display_name": "Python 3 (ipykernel)",
   "language": "python",
   "name": "python3"
  },
  "language_info": {
   "codemirror_mode": {
    "name": "ipython",
    "version": 3
   },
   "file_extension": ".py",
   "mimetype": "text/x-python",
   "name": "python",
   "nbconvert_exporter": "python",
   "pygments_lexer": "ipython3",
   "version": "3.9.18"
  }
 },
 "nbformat": 4,
 "nbformat_minor": 5
}
