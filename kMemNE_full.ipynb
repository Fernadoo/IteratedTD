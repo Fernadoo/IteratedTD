{
 "cells": [
  {
   "cell_type": "code",
   "execution_count": 53,
   "id": "8b4dd425-8843-456b-b7aa-62100dd2f733",
   "metadata": {},
   "outputs": [],
   "source": [
    "from itertools import product\n",
    "import numpy as np\n",
    "from tqdm import tqdm\n",
    "from matplotlib import pyplot as plt\n",
    "from matplotlib import colors as mcolors\n",
    "%matplotlib inline"
   ]
  },
  {
   "cell_type": "code",
   "execution_count": 54,
   "id": "4b24e0a3-5d87-426f-9633-8ea777929999",
   "metadata": {},
   "outputs": [
    {
     "name": "stdout",
     "output_type": "stream",
     "text": [
      "[(0, 0), (2, -2)]\n",
      "[(-2, 2), (1, 1)]\n"
     ]
    }
   ],
   "source": [
    "# game (2 players) settings,\n",
    "lo, hi = 0, 1\n",
    "\n",
    "def r1(a1, a2):\n",
    "    return min(a1, a2) + 2 * np.sign(a2 - a1)\n",
    "\n",
    "np.random.seed(618)\n",
    "k_max = 1\n",
    "\n",
    "for a1 in range(lo, hi + 1):\n",
    "    print([(r1(a1, a2), r1(a2, a1)) for a2 in range(lo, hi + 1)])"
   ]
  },
  {
   "cell_type": "code",
   "execution_count": 55,
   "id": "0d6c9ef6-7172-4a16-a528-afc5301904e2",
   "metadata": {},
   "outputs": [
    {
     "name": "stdout",
     "output_type": "stream",
     "text": [
      "[[], [0, 0], [0, 1], [1, 0], [1, 1]]\n"
     ]
    }
   ],
   "source": [
    "# strategy settings\n",
    "actions = range(lo, hi + 1)\n",
    "states = []\n",
    "for k in range(k_max + 1):\n",
    "    states += list(map(list, product(actions, repeat=2 * k)))\n",
    "print(states)"
   ]
  },
  {
   "cell_type": "code",
   "execution_count": 56,
   "id": "5d71bbd2-53c0-4d7f-8dd4-e84d862d859c",
   "metadata": {},
   "outputs": [
    {
     "name": "stdout",
     "output_type": "stream",
     "text": [
      "(5, 2, 2) (5, 5, 2, 2)\n"
     ]
    }
   ],
   "source": [
    "num_actions = len(actions)\n",
    "num_states = len(states)\n",
    "R = np.zeros(shape=(num_states, num_actions, num_actions))\n",
    "T = np.zeros(shape=(num_states, num_states, num_actions, num_actions))\n",
    "print(R.shape, T.shape)\n",
    "\n",
    "for idx1, a1 in enumerate(actions):\n",
    "    for idx2, a2 in enumerate(actions):\n",
    "        R[:, idx1, idx2] = r1(a1, a2)\n",
    "\n",
    "for idx1, a1 in enumerate(actions):\n",
    "    for idx2, a2 in enumerate(actions):\n",
    "        R[:, idx1, idx2] = r1(a1, a2)\n",
    "for i, Si in enumerate(states):\n",
    "    for idx1, a1 in enumerate(actions):\n",
    "        for idx2, a2 in enumerate(actions):\n",
    "            Sj = Si[2:] + [a1, a2]\n",
    "            l = len(Sj)\n",
    "            base = [num_actions ** i for i in range(l - 1, -1, -1)]\n",
    "            j = np.dot(np.array(Sj), base) + sum([num_actions ** m for m in range(l - 2, -1 , -2)])\n",
    "            # print(Sj, states.index(Sj), j)\n",
    "            T[i, j, idx1, idx2] = 1"
   ]
  },
  {
   "cell_type": "code",
   "execution_count": 67,
   "id": "9a6d2512-b9bf-4fe2-8d8c-d0b366d97ade",
   "metadata": {},
   "outputs": [
    {
     "name": "stdout",
     "output_type": "stream",
     "text": [
      "(5, 2) (5,)\n"
     ]
    },
    {
     "name": "stderr",
     "output_type": "stream",
     "text": [
      "100%|███████████████████████████████████████████████████████████████████████████████████████████████████████| 100/100 [00:00<00:00, 3023.25it/s]"
     ]
    },
    {
     "name": "stdout",
     "output_type": "stream",
     "text": [
      "[[1. 0.]\n",
      " [1. 0.]\n",
      " [1. 0.]\n",
      " [1. 0.]\n",
      " [1. 0.]] [0. 0. 0. 0. 0.]\n",
      "[[1. 0.]\n",
      " [1. 0.]\n",
      " [1. 0.]\n",
      " [1. 0.]\n",
      " [1. 0.]] [0. 0. 0. 0. 0.]\n"
     ]
    },
    {
     "name": "stderr",
     "output_type": "stream",
     "text": [
      "\n"
     ]
    }
   ],
   "source": [
    "# initialization\n",
    "p1 = np.random.rand(num_states, num_actions)\n",
    "p1 = p1 / p1.sum(axis=1, keepdims=True)\n",
    "p2 = np.random.rand(num_states, num_actions)\n",
    "p2 = p2 / p2.sum(axis=1, keepdims=True)\n",
    "\n",
    "V1 = np.random.rand(num_states)\n",
    "V2 = np.random.rand(num_states)\n",
    "\n",
    "print(p1.shape, V1.shape)\n",
    "\n",
    "# refinement mapping iteration\n",
    "gamma = 0.99\n",
    "it = 100\n",
    "for i in tqdm(range(it)):\n",
    "    R1SA = np.sum(R * p2[:, np.newaxis, :], axis=2)\n",
    "    T1SAS = np.sum(T * p2[:, np.newaxis, np.newaxis, :], axis=3).transpose(0, 2, 1)\n",
    "    \n",
    "    R2SA = np.sum(R * p1[:, np.newaxis, :], axis=2)\n",
    "    T2SAS = np.sum(T * p1[:, np.newaxis, np.newaxis, :], axis=3).transpose(0, 2, 1)\n",
    "\n",
    "    # solve Bellman expectation equation\n",
    "    I = np.eye(num_states)\n",
    "    \n",
    "    R1S = np.sum(R1SA * p1, axis=1)\n",
    "    T1SS = np.sum(T1SAS * p1[:, :, np.newaxis], axis=1)\n",
    "    V1 = np.linalg.inv(I - gamma * T1SS) @ R1S\n",
    "\n",
    "    R2S = np.sum(R2SA * p2, axis=1)\n",
    "    T2SS = np.sum(T2SAS * p2[:, :, np.newaxis], axis=1)\n",
    "    V2 = np.linalg.inv(I - gamma * T2SS) @ R2S\n",
    "\n",
    "    # extract Q and refine\n",
    "    Q1 = R1SA + gamma * T1SAS @ V1\n",
    "    # V1 = np.sum(Q1 * p1, axis=1))\n",
    "    ref1 = np.maximum(Q1 - V1[:, np.newaxis], 0)\n",
    "    p1 = np.exp(p1 + ref1) - 1\n",
    "    # p1 = np.sqrt(p1 + ref1)\n",
    "    p1 = p1 / p1.sum(axis=1, keepdims=True)\n",
    "    \n",
    "    Q2 = R2SA + gamma * T2SAS @ V2\n",
    "    # V2 = np.sum(Q2 * p2, axis=1)\n",
    "    ref2 = np.maximum(Q2 - V2[:, np.newaxis], 0)\n",
    "    p2 = np.exp(p2 + ref2) - 1\n",
    "    # p2 = np.sqrt(p2 + ref2)\n",
    "    p2 = p2 / p2.sum(axis=1, keepdims=True)\n",
    "\n",
    "print(p1.round(3), V1.round(3))\n",
    "print(p2.round(3), V2.round(3))"
   ]
  },
  {
   "cell_type": "code",
   "execution_count": 58,
   "id": "aba28357-5704-47e5-99f6-489a4beabd2a",
   "metadata": {},
   "outputs": [],
   "source": [
    "# V1_hist = dict()\n",
    "# k_list = [1, 2, 3]\n",
    "# for k in k_list:\n",
    "#     V1_hist[k] = []"
   ]
  },
  {
   "cell_type": "code",
   "execution_count": 59,
   "id": "7a6c7bfb-1bbd-43f7-9384-1787eebc4f78",
   "metadata": {
    "scrolled": true
   },
   "outputs": [],
   "source": [
    "# for k in k_list:\n",
    "#     for _ in range(5):\n",
    "#         V1_hist[k].append([])\n",
    "    \n",
    "        \n",
    "        \n",
    "#             V1_hist[k][-1].append(V1.mean())"
   ]
  },
  {
   "cell_type": "code",
   "execution_count": 60,
   "id": "424c633b-e890-4d3c-b1fd-e48e9cc6f833",
   "metadata": {},
   "outputs": [],
   "source": [
    "# fig, ax = plt.subplots(nrows=1, ncols=1, figsize=(4, 6), dpi=250)\n",
    "# for k in k_list:\n",
    "#     mean = np.mean(V1_hist[k], axis=0)\n",
    "#     std = np.std(V1_hist[k], axis=0)\n",
    "#     ax.plot(range(it), mean, label=f'memory={k}', color=list(mcolors.TABLEAU_COLORS)[k], lw=1)\n",
    "#     # ax.fill_between(range(it), mean - std, mean + std, color=list(mcolors.TABLEAU_COLORS)[k], alpha=0.2, ec=None)\n",
    "#     ax.hlines(40, 0, it - 1, color='b', linestyle='dotted')\n",
    "#     # ax.set_xticks(range(it))\n",
    "# ax.legend()"
   ]
  },
  {
   "cell_type": "code",
   "execution_count": null,
   "id": "f377ddfe-4f7f-4dc5-9b29-f04bb09edbfe",
   "metadata": {},
   "outputs": [],
   "source": []
  }
 ],
 "metadata": {
  "kernelspec": {
   "display_name": "Python 3 (ipykernel)",
   "language": "python",
   "name": "python3"
  },
  "language_info": {
   "codemirror_mode": {
    "name": "ipython",
    "version": 3
   },
   "file_extension": ".py",
   "mimetype": "text/x-python",
   "name": "python",
   "nbconvert_exporter": "python",
   "pygments_lexer": "ipython3",
   "version": "3.9.18"
  }
 },
 "nbformat": 4,
 "nbformat_minor": 5
}
